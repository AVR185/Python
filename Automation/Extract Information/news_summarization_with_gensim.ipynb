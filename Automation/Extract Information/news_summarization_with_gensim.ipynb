{
 "cells": [
  {
   "cell_type": "markdown",
   "metadata": {},
   "source": [
    "# Import Libraries"
   ]
  },
  {
   "cell_type": "code",
   "execution_count": 1,
   "metadata": {},
   "outputs": [],
   "source": [
    "from bs4 import BeautifulSoup\n",
    "from requests import get"
   ]
  },
  {
   "cell_type": "markdown",
   "metadata": {},
   "source": [
    "# Creating a Function to Extract only Text from < p > Tags"
   ]
  },
  {
   "cell_type": "code",
   "execution_count": 15,
   "metadata": {},
   "outputs": [],
   "source": [
    "def get_only_text(url):\n",
    "    \"\"\" \n",
    "    return the title and the text of the article\n",
    "    at the specified url\n",
    "    \"\"\"\n",
    "    page = get(url) # Get the url\n",
    "    soup = BeautifulSoup(page.content, \"lxml\") # Parse content with XML parser, we get the html\n",
    "\n",
    "    text = ' '.join(map(lambda p: p.text, soup.find_all('p'))) # join all p labels\n",
    "    title = ' '.join(soup.title.stripped_strings) # Title of the page\n",
    "    \n",
    "    return title , text   "
   ]
  },
  {
   "cell_type": "markdown",
   "metadata": {},
   "source": [
    "# Calling the function with the desired News URL"
   ]
  },
  {
   "cell_type": "code",
   "execution_count": 19,
   "metadata": {},
   "outputs": [
    {
     "name": "stdout",
     "output_type": "stream",
     "text": [
      "2\n"
     ]
    },
    {
     "data": {
      "text/plain": [
       "('Canada, Denmark agree to resolve Arctic border dispute - Wikinews, the free news source',\n",
       " 'Wednesday, June 15, 2022\\xa0\\n A long-standing and mainly good-natured border dispute between Canada and Denmark over the uninhabited Hans Island in the Arctic Sea is to be resolved, with the Danish Foreign Ministry confirming Tuesday the nations have agreed to divide it in two.\\n The agreement, which awaits parliamentary approval before it can be fully ratified, sees Hans Island split almost equally between Canada and Denmark, with the border to follow a naturally occurring cleft on the island. It is mainly a symbolic agreement, and serves as a show of unity and cooperation between the two NATO countries. It follows the 2018 establishment of a working group between the two countries with the aim of resolving the dispute, termed the \\'Whisky War\\'.\\n The dispute arose as Hans Island is of a roughly equal distance between Canada\\'s Ellesmere Island and Greenland, a territory of Denmark. It dates to 1971, but the name arose after Canadian troops left the Canadian flag and a bottle of Canadian whisky on the island in 1984. Denmark\\'s Greenland affairs minister Tom Høyem responded by visiting the island, replacing the Canadian flag with Denmark\\'s, and leaving a bottle of Danish schnapps. \\n This developed into a tradition where officials, scientists and soldiers from both Canada and Denmark visited the island to remove the other side\\'s flag, raise their own and leave either Canadian whisky or Danish schnapps for the other side to find.\\n In a press release, Canadian foreign affairs minister Mélanie Joly called the Arctic region a \"beacon for international cooperation, where the rule of law prevails\". Joly added \"as global security is being threatened, it’s more important than ever for democracies like Canada and the Kingdom of Denmark to work together, alongside Indigenous peoples, to resolve our differences in accordance with international law.\" \\n Her Danish counterpart, Jeppe Kofod, noted that sovereignty over the island had been in contention \"for more than 50 years\", and that \"efforts\" between the two nations \"demonstrate our firm common commitment to resolve international disputes peacefully\". Kofod said that he hoped \"our negotiation and the spirit of this agreement\" would inspire other nations, and that it was \"much needed at a time when respect for the international rules-based order is under pressure\".\\n \\n Have an opinion on this story? Share it!\\n Share this:\\xa0\\n\\n\\n\\n\\n\\n')"
      ]
     },
     "execution_count": 19,
     "metadata": {},
     "output_type": "execute_result"
    }
   ],
   "source": [
    "text = get_only_text(\"https://en.wikinews.org/wiki/Canada,_Denmark_agree_to_resolve_Arctic_border_dispute\")\n",
    "\n",
    "print(len(text))\n",
    "\n",
    "text"
   ]
  },
  {
   "cell_type": "markdown",
   "metadata": {},
   "source": [
    "# Number of Words - Original Text"
   ]
  },
  {
   "cell_type": "code",
   "execution_count": 20,
   "metadata": {},
   "outputs": [
    {
     "name": "stdout",
     "output_type": "stream",
     "text": [
      "Canada, Denmark agree to resolve Arctic border dispute - Wikinews, the free news source\n"
     ]
    },
    {
     "data": {
      "text/plain": [
       "380"
      ]
     },
     "execution_count": 20,
     "metadata": {},
     "output_type": "execute_result"
    }
   ],
   "source": [
    "print(text[0])\n",
    "\n",
    "len(str.split(text[1]))"
   ]
  },
  {
   "cell_type": "markdown",
   "metadata": {},
   "source": [
    "# Summarization"
   ]
  },
  {
   "cell_type": "code",
   "execution_count": 5,
   "metadata": {},
   "outputs": [],
   "source": [
    "# pip3 install gensim==3.8.3   -> WITH lastest versions it no longer works these packages\n",
    "from gensim.summarization import keywords\n",
    "from gensim.summarization.summarizer import summarize"
   ]
  },
  {
   "cell_type": "markdown",
   "metadata": {},
   "source": [
    "# Method #1 - Word Count"
   ]
  },
  {
   "cell_type": "code",
   "execution_count": 25,
   "metadata": {},
   "outputs": [
    {
     "name": "stdout",
     "output_type": "stream",
     "text": [
      "Title : Canada, Denmark agree to resolve Arctic border dispute - Wikinews, the free news source\n",
      "Summary : \n",
      "'Wednesday, June 15, 2022\\xa0\\n A long-standing and mainly good-natured border dispute between Canada and Denmark over the uninhabited Hans Island in the Arctic Sea is to be resolved, with the Danish Foreign Ministry confirming Tuesday the nations have agreed to divide it in two.\\n The agreement, which awaits parliamentary approval before it can be fully ratified, sees Hans Island split almost equally between Canada and Denmark, with the border to follow a naturally occurring cleft on the island.\n",
      "It follows the 2018 establishment of a working group between the two countries with the aim of resolving the dispute, termed the \\'Whisky War\\'.\\n The dispute arose as Hans Island is of a roughly equal distance between Canada\\'s Ellesmere Island and Greenland, a territory of Denmark.\n",
      "\\n This developed into a tradition where officials, scientists and soldiers from both Canada and Denmark visited the island to remove the other side\\'s flag, raise their own and leave either Canadian whisky or Danish schnapps for the other side to find.\\n In a press release, Canadian foreign affairs minister Mélanie Joly called the Arctic region a \"beacon for international cooperation, where the rule of law prevails\".\n"
     ]
    },
    {
     "data": {
      "text/plain": [
       "191"
      ]
     },
     "execution_count": 25,
     "metadata": {},
     "output_type": "execute_result"
    }
   ],
   "source": [
    "print (\"Title : \" + text[0])\n",
    "print (\"Summary : \")\n",
    "print (summarize(repr(text[1]), word_count=100))\n",
    "\n",
    "len(str.split((summarize(repr(text[1]), word_count=100)))) # word_count 100 -> limit number of words, aprox"
   ]
  },
  {
   "cell_type": "markdown",
   "metadata": {},
   "source": [
    "# Number of Words - Summarized Text"
   ]
  },
  {
   "cell_type": "code",
   "execution_count": 12,
   "metadata": {},
   "outputs": [
    {
     "name": "stdout",
     "output_type": "stream",
     "text": [
      "Title : Canada, Denmark agree to resolve Arctic border dispute - Wikinews, the free news source\n",
      "Summary : \n",
      "'Wednesday, June 15, 2022\\xa0\\n A long-standing and mainly good-natured border dispute between Canada and Denmark over the uninhabited Hans Island in the Arctic Sea is to be resolved, with the Danish Foreign Ministry confirming Tuesday the nations have agreed to divide it in two.\\n The agreement, which awaits parliamentary approval before it can be fully ratified, sees Hans Island split almost equally between Canada and Denmark, with the border to follow a naturally occurring cleft on the island.\n",
      "\\n This developed into a tradition where officials, scientists and soldiers from both Canada and Denmark visited the island to remove the other side\\'s flag, raise their own and leave either Canadian whisky or Danish schnapps for the other side to find.\\n In a press release, Canadian foreign affairs minister Mélanie Joly called the Arctic region a \"beacon for international cooperation, where the rule of law prevails\".\n"
     ]
    },
    {
     "data": {
      "text/plain": [
       "145"
      ]
     },
     "execution_count": 12,
     "metadata": {},
     "output_type": "execute_result"
    }
   ],
   "source": [
    "print (\"Title : \" + text[0])\n",
    "print (\"Summary : \")\n",
    "\n",
    "# With ratio = 0.1 -> I get an empty string\n",
    "# With ratio = 0.2 -> I get exactly the same result than in the previous example\n",
    "# Increasing the ratio I get longer and longer texts\n",
    "print (summarize(repr(text[1]), ratio=0.3))\n",
    "len(str.split(summarize(repr(text[1]), ratio=0.3)))"
   ]
  },
  {
   "cell_type": "markdown",
   "metadata": {},
   "source": [
    "# Keywords"
   ]
  },
  {
   "cell_type": "code",
   "execution_count": 22,
   "metadata": {},
   "outputs": [
    {
     "name": "stdout",
     "output_type": "stream",
     "text": [
      "\n",
      "Keywords:\n",
      "canadian\n",
      "international\n",
      "disputes\n",
      "island\n",
      "joly\n",
      "kofod\n",
      "foreign\n",
      "hans\n",
      "naturally\n"
     ]
    }
   ],
   "source": [
    "print ('\\nKeywords:')\n",
    "print (keywords(text[1], ratio=0.1, lemmatize=True)) #You can adjust the ratio"
   ]
  }
 ],
 "metadata": {
  "kernelspec": {
   "display_name": "Python 3.7.6 ('base')",
   "language": "python",
   "name": "python3"
  },
  "language_info": {
   "codemirror_mode": {
    "name": "ipython",
    "version": 3
   },
   "file_extension": ".py",
   "mimetype": "text/x-python",
   "name": "python",
   "nbconvert_exporter": "python",
   "pygments_lexer": "ipython3",
   "version": "3.7.6"
  },
  "orig_nbformat": 4,
  "vscode": {
   "interpreter": {
    "hash": "93841887842fc5ccc65413dd157b47e4c47974dfcec069b737014f56835c17b1"
   }
  }
 },
 "nbformat": 4,
 "nbformat_minor": 2
}
