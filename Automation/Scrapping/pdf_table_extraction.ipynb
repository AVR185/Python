{
 "cells": [
  {
   "cell_type": "markdown",
   "metadata": {},
   "source": [
    "# Extracting Table from PDF file"
   ]
  },
  {
   "cell_type": "code",
   "execution_count": 271,
   "metadata": {},
   "outputs": [],
   "source": [
    "# pip3 install jupyter\n",
    "# pip3 install camelot-py\n",
    "# pip3 install seaborn\n",
    "import camelot.io as cm #to fix error -> conda install ghostscript\n",
    "import os"
   ]
  },
  {
   "cell_type": "code",
   "execution_count": 1,
   "metadata": {},
   "outputs": [
    {
     "name": "stdout",
     "output_type": "stream",
     "text": [
      " El volumen de la unidad C no tiene etiqueta.\n",
      " El n�mero de serie del volumen es: B652-0BE0\n",
      "\n",
      " Directorio de c:\\Users\\avr_h\\Documents\\Practicas Programacion\\Python\\Python\\Automation\\Scrapping\n",
      "\n",
      "08/07/2022  04:03    <DIR>          .\n",
      "08/07/2022  04:03    <DIR>          ..\n",
      "08/07/2022  03:16    <DIR>          __pycache__\n",
      "08/07/2022  03:39             9.569 extract_important_info.ipynb\n",
      "08/07/2022  03:26    <DIR>          files\n",
      "08/07/2022  01:44            57.940 pdf_table_extraction.ipynb\n",
      "08/07/2022  03:16            10.094 pdf2txt.py\n",
      "06/07/2022  02:47             3.064 scrapping_news_to_email.py\n",
      "08/07/2022  03:10             8.368 spacy_practice.ipynb\n",
      "06/07/2022  03:57             1.524 ted_talk_downloader.py\n",
      "               6 archivos         90.559 bytes\n",
      "               4 dirs  25.077.530.624 bytes libres\n"
     ]
    }
   ],
   "source": [
    "ls"
   ]
  },
  {
   "cell_type": "code",
   "execution_count": 273,
   "metadata": {},
   "outputs": [],
   "source": [
    "# Option 1 -> URL\n",
    "#input_pdf = cm.read_pdf(\"url\")\n",
    "\n",
    "# Option 2 -> file\n",
    "# flavor can be -> stream or lattice\n",
    "input_pdf = cm.read_pdf(os.getcwd() + \"\\\\files\\\\table.pdf\", flavor=\"lattice\", pages='all')"
   ]
  },
  {
   "cell_type": "code",
   "execution_count": 274,
   "metadata": {},
   "outputs": [
    {
     "data": {
      "text/plain": [
       "<TableList n=1>"
      ]
     },
     "execution_count": 274,
     "metadata": {},
     "output_type": "execute_result"
    }
   ],
   "source": [
    "input_pdf # Visalize"
   ]
  },
  {
   "cell_type": "code",
   "execution_count": 275,
   "metadata": {},
   "outputs": [
    {
     "name": "stdout",
     "output_type": "stream",
     "text": [
      "<Table shape=(6, 6)>\n"
     ]
    }
   ],
   "source": [
    "for element in input_pdf:\n",
    "    print (element)"
   ]
  },
  {
   "cell_type": "code",
   "execution_count": 276,
   "metadata": {},
   "outputs": [
    {
     "data": {
      "text/html": [
       "<div>\n",
       "<style scoped>\n",
       "    .dataframe tbody tr th:only-of-type {\n",
       "        vertical-align: middle;\n",
       "    }\n",
       "\n",
       "    .dataframe tbody tr th {\n",
       "        vertical-align: top;\n",
       "    }\n",
       "\n",
       "    .dataframe thead th {\n",
       "        text-align: right;\n",
       "    }\n",
       "</style>\n",
       "<table border=\"1\" class=\"dataframe\">\n",
       "  <thead>\n",
       "    <tr style=\"text-align: right;\">\n",
       "      <th></th>\n",
       "      <th>0</th>\n",
       "      <th>1</th>\n",
       "      <th>2</th>\n",
       "      <th>3</th>\n",
       "      <th>4</th>\n",
       "      <th>5</th>\n",
       "    </tr>\n",
       "  </thead>\n",
       "  <tbody>\n",
       "    <tr>\n",
       "      <th>2</th>\n",
       "      <td>Blind</td>\n",
       "      <td>5</td>\n",
       "      <td>1</td>\n",
       "      <td>4</td>\n",
       "      <td>34.5%, n=1</td>\n",
       "      <td>1199 sec, n=1</td>\n",
       "    </tr>\n",
       "    <tr>\n",
       "      <th>3</th>\n",
       "      <td>Low Vision</td>\n",
       "      <td>5</td>\n",
       "      <td>2</td>\n",
       "      <td>3</td>\n",
       "      <td>98.3% n=2 \\n(97.7%, n=3)</td>\n",
       "      <td>1716 sec, n=3 \\n(1934 sec, n=2)</td>\n",
       "    </tr>\n",
       "    <tr>\n",
       "      <th>4</th>\n",
       "      <td>Dexterity</td>\n",
       "      <td>5</td>\n",
       "      <td>4</td>\n",
       "      <td>1</td>\n",
       "      <td>98.3%, n=4</td>\n",
       "      <td>1672.1 sec, n=4</td>\n",
       "    </tr>\n",
       "    <tr>\n",
       "      <th>5</th>\n",
       "      <td>Mobility</td>\n",
       "      <td>3</td>\n",
       "      <td>3</td>\n",
       "      <td>0</td>\n",
       "      <td>95.4%, n=3</td>\n",
       "      <td>1416 sec, n=3</td>\n",
       "    </tr>\n",
       "  </tbody>\n",
       "</table>\n",
       "</div>"
      ],
      "text/plain": [
       "            0  1  2  3                         4  \\\n",
       "2       Blind  5  1  4                34.5%, n=1   \n",
       "3  Low Vision  5  2  3  98.3% n=2 \\n(97.7%, n=3)   \n",
       "4   Dexterity  5  4  1                98.3%, n=4   \n",
       "5    Mobility  3  3  0                95.4%, n=3   \n",
       "\n",
       "                                 5  \n",
       "2                    1199 sec, n=1  \n",
       "3  1716 sec, n=3 \\n(1934 sec, n=2)  \n",
       "4                  1672.1 sec, n=4  \n",
       "5                    1416 sec, n=3  "
      ]
     },
     "execution_count": 276,
     "metadata": {},
     "output_type": "execute_result"
    }
   ],
   "source": [
    "df = input_pdf[0].df.loc[2: , :] # Get all rows but headers and all columns\n",
    "df # Visualize"
   ]
  },
  {
   "cell_type": "code",
   "execution_count": 277,
   "metadata": {},
   "outputs": [
    {
     "data": {
      "text/html": [
       "<div>\n",
       "<style scoped>\n",
       "    .dataframe tbody tr th:only-of-type {\n",
       "        vertical-align: middle;\n",
       "    }\n",
       "\n",
       "    .dataframe tbody tr th {\n",
       "        vertical-align: top;\n",
       "    }\n",
       "\n",
       "    .dataframe thead th {\n",
       "        text-align: right;\n",
       "    }\n",
       "</style>\n",
       "<table border=\"1\" class=\"dataframe\">\n",
       "  <thead>\n",
       "    <tr style=\"text-align: right;\">\n",
       "      <th></th>\n",
       "      <th>Participants</th>\n",
       "      <th>Ballots Completed</th>\n",
       "      <th>Ballots Incomplete/Terminated</th>\n",
       "      <th>Results - Accuracy</th>\n",
       "      <th>Results - Time to complete</th>\n",
       "    </tr>\n",
       "    <tr>\n",
       "      <th>Disability Category</th>\n",
       "      <th></th>\n",
       "      <th></th>\n",
       "      <th></th>\n",
       "      <th></th>\n",
       "      <th></th>\n",
       "    </tr>\n",
       "  </thead>\n",
       "  <tbody>\n",
       "    <tr>\n",
       "      <th>Blind</th>\n",
       "      <td>5</td>\n",
       "      <td>1</td>\n",
       "      <td>4</td>\n",
       "      <td>34.5%, n=1</td>\n",
       "      <td>1199 sec, n=1</td>\n",
       "    </tr>\n",
       "    <tr>\n",
       "      <th>Low Vision</th>\n",
       "      <td>5</td>\n",
       "      <td>2</td>\n",
       "      <td>3</td>\n",
       "      <td>98.3% n=2 (97.7%, n=3)</td>\n",
       "      <td>1716 sec, n=3 (1934 sec, n=2)</td>\n",
       "    </tr>\n",
       "    <tr>\n",
       "      <th>Dexterity</th>\n",
       "      <td>5</td>\n",
       "      <td>4</td>\n",
       "      <td>1</td>\n",
       "      <td>98.3%, n=4</td>\n",
       "      <td>1672.1 sec, n=4</td>\n",
       "    </tr>\n",
       "    <tr>\n",
       "      <th>Mobility</th>\n",
       "      <td>3</td>\n",
       "      <td>3</td>\n",
       "      <td>0</td>\n",
       "      <td>95.4%, n=3</td>\n",
       "      <td>1416 sec, n=3</td>\n",
       "    </tr>\n",
       "  </tbody>\n",
       "</table>\n",
       "</div>"
      ],
      "text/plain": [
       "                     Participants  Ballots Completed  \\\n",
       "Disability Category                                    \n",
       "Blind                           5                  1   \n",
       "Low Vision                      5                  2   \n",
       "Dexterity                       5                  4   \n",
       "Mobility                        3                  3   \n",
       "\n",
       "                     Ballots Incomplete/Terminated      Results - Accuracy  \\\n",
       "Disability Category                                                          \n",
       "Blind                                            4              34.5%, n=1   \n",
       "Low Vision                                       3  98.3% n=2 (97.7%, n=3)   \n",
       "Dexterity                                        1              98.3%, n=4   \n",
       "Mobility                                         0              95.4%, n=3   \n",
       "\n",
       "                        Results - Time to complete  \n",
       "Disability Category                                 \n",
       "Blind                                1199 sec, n=1  \n",
       "Low Vision           1716 sec, n=3 (1934 sec, n=2)  \n",
       "Dexterity                          1672.1 sec, n=4  \n",
       "Mobility                             1416 sec, n=3  "
      ]
     },
     "execution_count": 277,
     "metadata": {},
     "output_type": "execute_result"
    }
   ],
   "source": [
    "df = df.reset_index(drop= True)\n",
    "df.columns = [\"Disability Category\", \"Participants\", \"Ballots Completed\", \"Ballots Incomplete/Terminated\", \"Results - Accuracy\", \"Results - Time to complete\"] # set columns names\n",
    "df[[\"Participants\", \"Ballots Completed\", \"Ballots Incomplete/Terminated\"]] = df[[\"Participants\", \"Ballots Completed\", \"Ballots Incomplete/Terminated\"]].astype(int) # parse to integer\n",
    "df[[\"Results - Accuracy\", \"Results - Time to complete\"]] = df[[\"Results - Accuracy\", \"Results - Time to complete\"]].replace(\"\\n\", \"\", regex= True) # format string\n",
    "df = df.set_index(\"Disability Category\") # set the index the first column\n",
    "df"
   ]
  },
  {
   "cell_type": "code",
   "execution_count": 278,
   "metadata": {},
   "outputs": [],
   "source": [
    "# Export\n",
    "df.to_csv(os.getcwd() + \"\\\\files\\\\csv_copy.csv\", sep= \";\")\n",
    "df.to_excel(os.getcwd() + \"\\\\files\\\\excel_copy.xlsx\")"
   ]
  },
  {
   "cell_type": "markdown",
   "metadata": {},
   "source": [
    "# Bonus Track - Data Visualitation"
   ]
  },
  {
   "cell_type": "code",
   "execution_count": 279,
   "metadata": {},
   "outputs": [],
   "source": [
    "import pandas as pd\n",
    "import seaborn as sns\n",
    "import matplotlib.pyplot as plt"
   ]
  },
  {
   "cell_type": "code",
   "execution_count": 280,
   "metadata": {},
   "outputs": [
    {
     "data": {
      "text/html": [
       "<div>\n",
       "<style scoped>\n",
       "    .dataframe tbody tr th:only-of-type {\n",
       "        vertical-align: middle;\n",
       "    }\n",
       "\n",
       "    .dataframe tbody tr th {\n",
       "        vertical-align: top;\n",
       "    }\n",
       "\n",
       "    .dataframe thead th {\n",
       "        text-align: right;\n",
       "    }\n",
       "</style>\n",
       "<table border=\"1\" class=\"dataframe\">\n",
       "  <thead>\n",
       "    <tr style=\"text-align: right;\">\n",
       "      <th></th>\n",
       "      <th>Disability Category</th>\n",
       "      <th>Participants</th>\n",
       "      <th>Ballots Completed</th>\n",
       "      <th>Ballots Incomplete/Terminated</th>\n",
       "      <th>Results - Accuracy</th>\n",
       "      <th>Results - Time to complete</th>\n",
       "    </tr>\n",
       "  </thead>\n",
       "  <tbody>\n",
       "    <tr>\n",
       "      <th>0</th>\n",
       "      <td>Blind</td>\n",
       "      <td>5</td>\n",
       "      <td>1</td>\n",
       "      <td>4</td>\n",
       "      <td>34.5%, n=1</td>\n",
       "      <td>1199 sec, n=1</td>\n",
       "    </tr>\n",
       "    <tr>\n",
       "      <th>1</th>\n",
       "      <td>Low Vision</td>\n",
       "      <td>5</td>\n",
       "      <td>2</td>\n",
       "      <td>3</td>\n",
       "      <td>98.3% n=2 (97.7%, n=3)</td>\n",
       "      <td>1716 sec, n=3 (1934 sec, n=2)</td>\n",
       "    </tr>\n",
       "    <tr>\n",
       "      <th>2</th>\n",
       "      <td>Dexterity</td>\n",
       "      <td>5</td>\n",
       "      <td>4</td>\n",
       "      <td>1</td>\n",
       "      <td>98.3%, n=4</td>\n",
       "      <td>1672.1 sec, n=4</td>\n",
       "    </tr>\n",
       "    <tr>\n",
       "      <th>3</th>\n",
       "      <td>Mobility</td>\n",
       "      <td>3</td>\n",
       "      <td>3</td>\n",
       "      <td>0</td>\n",
       "      <td>95.4%, n=3</td>\n",
       "      <td>1416 sec, n=3</td>\n",
       "    </tr>\n",
       "  </tbody>\n",
       "</table>\n",
       "</div>"
      ],
      "text/plain": [
       "  Disability Category  Participants  Ballots Completed  \\\n",
       "0               Blind             5                  1   \n",
       "1          Low Vision             5                  2   \n",
       "2           Dexterity             5                  4   \n",
       "3            Mobility             3                  3   \n",
       "\n",
       "   Ballots Incomplete/Terminated      Results - Accuracy  \\\n",
       "0                              4              34.5%, n=1   \n",
       "1                              3  98.3% n=2 (97.7%, n=3)   \n",
       "2                              1              98.3%, n=4   \n",
       "3                              0              95.4%, n=3   \n",
       "\n",
       "      Results - Time to complete  \n",
       "0                  1199 sec, n=1  \n",
       "1  1716 sec, n=3 (1934 sec, n=2)  \n",
       "2                1672.1 sec, n=4  \n",
       "3                  1416 sec, n=3  "
      ]
     },
     "execution_count": 280,
     "metadata": {},
     "output_type": "execute_result"
    }
   ],
   "source": [
    "dataFrame = pd.read_csv(os.getcwd() + \"\\\\files\\\\csv_copy.csv\", sep= \";\")\n",
    "dataFrame"
   ]
  },
  {
   "cell_type": "code",
   "execution_count": 294,
   "metadata": {},
   "outputs": [
    {
     "data": {
      "image/png": "[encoded data removed]",
      "text/plain": [
       "<Figure size 914.4x504 with 2 Axes>"
      ]
     },
     "metadata": {},
     "output_type": "display_data"
    }
   ],
   "source": [
    "fig, axs = plt.subplots(ncols=2)\n",
    "sns.barplot(x='Disability Category', y=\"Ballots Completed\", data=dataFrame, ax=axs[0])\n",
    "sns.barplot(x='Disability Category', y=\"Ballots Incomplete/Terminated\", data=dataFrame, ax=axs[1])\n",
    "sns.set(rc={'figure.figsize':(12.7, 7)})\n",
    "#sns.set_context(\"talk\")\n",
    "fig.suptitle(\"Comparation\")\n",
    "plt.show()"
   ]
  },
  {
   "cell_type": "code",
   "execution_count": 292,
   "metadata": {},
   "outputs": [
    {
     "data": {
      "image/png": "[encoded data removed]",
      "text/plain": [
       "<Figure size 360x360 with 1 Axes>"
      ]
     },
     "metadata": {},
     "output_type": "display_data"
    }
   ],
   "source": [
    "# Create new column\n",
    "dataFrame[\"% Ballots Completed\"] = dataFrame[\"Ballots Completed\"] / dataFrame[\"Participants\"] * 100\n",
    "\n",
    "sns.catplot(x='Disability Category', y=\"% Ballots Completed\", data=dataFrame, kind='bar').set(title=\"Percentage Completed\")\n",
    "sns.set_style(\"darkgrid\")\n",
    "sns.set_palette(\"GnBu_r\")\n",
    "# sns.set_context(\"paper\")\n",
    "# plt.xticks(rotation = 90)\n",
    "plt.show()"
   ]
  }
 ],
 "metadata": {
  "kernelspec": {
   "display_name": "Python 3.8.0 64-bit",
   "language": "python",
   "name": "python3"
  },
  "language_info": {
   "codemirror_mode": {
    "name": "ipython",
    "version": 3
   },
   "file_extension": ".py",
   "mimetype": "text/x-python",
   "name": "python",
   "nbconvert_exporter": "python",
   "pygments_lexer": "ipython3",
   "version": "3.8.0"
  },
  "orig_nbformat": 4,
  "vscode": {
   "interpreter": {
    "hash": "234ab4260b9516f310c78ea2d81adbe8ede65c61cca0a80898f8c8efad0ac359"
   }
  }
 },
 "nbformat": 4,
 "nbformat_minor": 2
}
