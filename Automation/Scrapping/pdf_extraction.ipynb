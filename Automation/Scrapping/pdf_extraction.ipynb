{
 "cells": [
  {
   "cell_type": "markdown",
   "metadata": {},
   "source": [
    "# Extracting Table from PDF file"
   ]
  },
  {
   "cell_type": "code",
   "execution_count": 105,
   "metadata": {},
   "outputs": [],
   "source": [
    "import camelot.io as cm #to fix error -> conda install ghostscript\n",
    "import os"
   ]
  },
  {
   "cell_type": "code",
   "execution_count": 106,
   "metadata": {},
   "outputs": [
    {
     "name": "stdout",
     "output_type": "stream",
     "text": [
      " El volumen de la unidad C no tiene etiqueta.\n",
      " El n�mero de serie del volumen es: B652-0BE0\n",
      "\n",
      " Directorio de c:\\Users\\avr_h\\Documents\\Practicas Programacion\\Python\\Python\\Automation\\Scrapping\n",
      "\n",
      "07/07/2022  03:42    <DIR>          .\n",
      "07/07/2022  03:42    <DIR>          ..\n",
      "07/07/2022  04:09    <DIR>          files\n",
      "07/07/2022  03:57             5.837 pdf_extraction.ipynb\n",
      "06/07/2022  04:31                73 scrapping_pdf.py\n",
      "06/07/2022  03:57             1.524 ted_talk_downloader.py\n",
      "               3 archivos          7.434 bytes\n",
      "               3 dirs  28.496.560.128 bytes libres\n"
     ]
    }
   ],
   "source": [
    "ls"
   ]
  },
  {
   "cell_type": "code",
   "execution_count": 107,
   "metadata": {},
   "outputs": [],
   "source": [
    "# Option 1 -> URL\n",
    "#input_pdf = cm.read_pdf(\"url\")\n",
    "\n",
    "# Option 2 -> file\n",
    "# flavor can be -> stream or lattice\n",
    "input_pdf = cm.read_pdf(os.getcwd() + \"\\\\files\\\\table.pdf\", flavor=\"lattice\", pages='all')"
   ]
  },
  {
   "cell_type": "code",
   "execution_count": 108,
   "metadata": {},
   "outputs": [
    {
     "data": {
      "text/plain": [
       "<TableList n=1>"
      ]
     },
     "execution_count": 108,
     "metadata": {},
     "output_type": "execute_result"
    }
   ],
   "source": [
    "input_pdf # Visalize"
   ]
  },
  {
   "cell_type": "code",
   "execution_count": 109,
   "metadata": {},
   "outputs": [
    {
     "name": "stdout",
     "output_type": "stream",
     "text": [
      "<Table shape=(6, 6)>\n"
     ]
    }
   ],
   "source": [
    "for element in input_pdf:\n",
    "    print (element)"
   ]
  },
  {
   "cell_type": "code",
   "execution_count": 110,
   "metadata": {},
   "outputs": [
    {
     "data": {
      "text/html": [
       "<div>\n",
       "<style scoped>\n",
       "    .dataframe tbody tr th:only-of-type {\n",
       "        vertical-align: middle;\n",
       "    }\n",
       "\n",
       "    .dataframe tbody tr th {\n",
       "        vertical-align: top;\n",
       "    }\n",
       "\n",
       "    .dataframe thead th {\n",
       "        text-align: right;\n",
       "    }\n",
       "</style>\n",
       "<table border=\"1\" class=\"dataframe\">\n",
       "  <thead>\n",
       "    <tr style=\"text-align: right;\">\n",
       "      <th></th>\n",
       "      <th>0</th>\n",
       "      <th>1</th>\n",
       "      <th>2</th>\n",
       "      <th>3</th>\n",
       "      <th>4</th>\n",
       "      <th>5</th>\n",
       "    </tr>\n",
       "  </thead>\n",
       "  <tbody>\n",
       "    <tr>\n",
       "      <th>2</th>\n",
       "      <td>Blind</td>\n",
       "      <td>5</td>\n",
       "      <td>1</td>\n",
       "      <td>4</td>\n",
       "      <td>34.5%, n=1</td>\n",
       "      <td>1199 sec, n=1</td>\n",
       "    </tr>\n",
       "    <tr>\n",
       "      <th>3</th>\n",
       "      <td>Low Vision</td>\n",
       "      <td>5</td>\n",
       "      <td>2</td>\n",
       "      <td>3</td>\n",
       "      <td>98.3% n=2 \\n(97.7%, n=3)</td>\n",
       "      <td>1716 sec, n=3 \\n(1934 sec, n=2)</td>\n",
       "    </tr>\n",
       "    <tr>\n",
       "      <th>4</th>\n",
       "      <td>Dexterity</td>\n",
       "      <td>5</td>\n",
       "      <td>4</td>\n",
       "      <td>1</td>\n",
       "      <td>98.3%, n=4</td>\n",
       "      <td>1672.1 sec, n=4</td>\n",
       "    </tr>\n",
       "    <tr>\n",
       "      <th>5</th>\n",
       "      <td>Mobility</td>\n",
       "      <td>3</td>\n",
       "      <td>3</td>\n",
       "      <td>0</td>\n",
       "      <td>95.4%, n=3</td>\n",
       "      <td>1416 sec, n=3</td>\n",
       "    </tr>\n",
       "  </tbody>\n",
       "</table>\n",
       "</div>"
      ],
      "text/plain": [
       "            0  1  2  3                         4  \\\n",
       "2       Blind  5  1  4                34.5%, n=1   \n",
       "3  Low Vision  5  2  3  98.3% n=2 \\n(97.7%, n=3)   \n",
       "4   Dexterity  5  4  1                98.3%, n=4   \n",
       "5    Mobility  3  3  0                95.4%, n=3   \n",
       "\n",
       "                                 5  \n",
       "2                    1199 sec, n=1  \n",
       "3  1716 sec, n=3 \\n(1934 sec, n=2)  \n",
       "4                  1672.1 sec, n=4  \n",
       "5                    1416 sec, n=3  "
      ]
     },
     "execution_count": 110,
     "metadata": {},
     "output_type": "execute_result"
    }
   ],
   "source": [
    "df = input_pdf[0].df.loc[2: , :] # Get all rows but headers and all columns\n",
    "df # Visualize"
   ]
  },
  {
   "cell_type": "code",
   "execution_count": 111,
   "metadata": {},
   "outputs": [
    {
     "data": {
      "text/html": [
       "<div>\n",
       "<style scoped>\n",
       "    .dataframe tbody tr th:only-of-type {\n",
       "        vertical-align: middle;\n",
       "    }\n",
       "\n",
       "    .dataframe tbody tr th {\n",
       "        vertical-align: top;\n",
       "    }\n",
       "\n",
       "    .dataframe thead th {\n",
       "        text-align: right;\n",
       "    }\n",
       "</style>\n",
       "<table border=\"1\" class=\"dataframe\">\n",
       "  <thead>\n",
       "    <tr style=\"text-align: right;\">\n",
       "      <th></th>\n",
       "      <th>Disability Category</th>\n",
       "      <th>Participants</th>\n",
       "      <th>Ballots Completed</th>\n",
       "      <th>Ballots Incomplete/Terminated</th>\n",
       "      <th>Results - Accuracy</th>\n",
       "      <th>Results - Time to complete</th>\n",
       "    </tr>\n",
       "  </thead>\n",
       "  <tbody>\n",
       "    <tr>\n",
       "      <th>0</th>\n",
       "      <td>Blind</td>\n",
       "      <td>5</td>\n",
       "      <td>1</td>\n",
       "      <td>4</td>\n",
       "      <td>34.5%, n=1</td>\n",
       "      <td>1199 sec, n=1</td>\n",
       "    </tr>\n",
       "    <tr>\n",
       "      <th>1</th>\n",
       "      <td>Low Vision</td>\n",
       "      <td>5</td>\n",
       "      <td>2</td>\n",
       "      <td>3</td>\n",
       "      <td>98.3% n=2 \\n(97.7%, n=3)</td>\n",
       "      <td>1716 sec, n=3 \\n(1934 sec, n=2)</td>\n",
       "    </tr>\n",
       "    <tr>\n",
       "      <th>2</th>\n",
       "      <td>Dexterity</td>\n",
       "      <td>5</td>\n",
       "      <td>4</td>\n",
       "      <td>1</td>\n",
       "      <td>98.3%, n=4</td>\n",
       "      <td>1672.1 sec, n=4</td>\n",
       "    </tr>\n",
       "    <tr>\n",
       "      <th>3</th>\n",
       "      <td>Mobility</td>\n",
       "      <td>3</td>\n",
       "      <td>3</td>\n",
       "      <td>0</td>\n",
       "      <td>95.4%, n=3</td>\n",
       "      <td>1416 sec, n=3</td>\n",
       "    </tr>\n",
       "  </tbody>\n",
       "</table>\n",
       "</div>"
      ],
      "text/plain": [
       "  Disability Category Participants Ballots Completed  \\\n",
       "0               Blind            5                 1   \n",
       "1          Low Vision            5                 2   \n",
       "2           Dexterity            5                 4   \n",
       "3            Mobility            3                 3   \n",
       "\n",
       "  Ballots Incomplete/Terminated        Results - Accuracy  \\\n",
       "0                             4                34.5%, n=1   \n",
       "1                             3  98.3% n=2 \\n(97.7%, n=3)   \n",
       "2                             1                98.3%, n=4   \n",
       "3                             0                95.4%, n=3   \n",
       "\n",
       "        Results - Time to complete  \n",
       "0                    1199 sec, n=1  \n",
       "1  1716 sec, n=3 \\n(1934 sec, n=2)  \n",
       "2                  1672.1 sec, n=4  \n",
       "3                    1416 sec, n=3  "
      ]
     },
     "execution_count": 111,
     "metadata": {},
     "output_type": "execute_result"
    }
   ],
   "source": [
    "df = df.reset_index(drop= True)\n",
    "df.columns = [\"Disability Category\", \"Participants\", \"Ballots Completed\", \"Ballots Incomplete/Terminated\", \"Results - Accuracy\", \"Results - Time to complete\"]\n",
    "df"
   ]
  },
  {
   "cell_type": "code",
   "execution_count": 113,
   "metadata": {},
   "outputs": [],
   "source": [
    "df.to_csv(os.getcwd() + \"\\\\files\\\\csv_copy.csv\")\n",
    "df.to_excel(os.getcwd() + \"\\\\files\\\\excel_copy.xlsx\")\n",
    "# TO-DO -> convertir a integer y quitar \\n "
   ]
  }
 ],
 "metadata": {
  "kernelspec": {
   "display_name": "Python 3.8.0 64-bit",
   "language": "python",
   "name": "python3"
  },
  "language_info": {
   "codemirror_mode": {
    "name": "ipython",
    "version": 3
   },
   "file_extension": ".py",
   "mimetype": "text/x-python",
   "name": "python",
   "nbconvert_exporter": "python",
   "pygments_lexer": "ipython3",
   "version": "3.8.0"
  },
  "orig_nbformat": 4,
  "vscode": {
   "interpreter": {
    "hash": "234ab4260b9516f310c78ea2d81adbe8ede65c61cca0a80898f8c8efad0ac359"
   }
  }
 },
 "nbformat": 4,
 "nbformat_minor": 2
}
