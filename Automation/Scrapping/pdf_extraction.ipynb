{
 "cells": [
  {
   "cell_type": "code",
   "execution_count": null,
   "metadata": {},
   "outputs": [],
   "source": []
  }
 ],
 "metadata": {
  "kernelspec": {
   "display_name": "Python 3.8.0 64-bit",
   "language": "python",
   "name": "python3"
  },
  "language_info": {
   "name": "python",
   "version": "3.8.0"
  },
  "orig_nbformat": 4,
  "vscode": {
   "interpreter": {
    "hash": "234ab4260b9516f310c78ea2d81adbe8ede65c61cca0a80898f8c8efad0ac359"
   }
  }
 },
 "nbformat": 4,
 "nbformat_minor": 2
}
